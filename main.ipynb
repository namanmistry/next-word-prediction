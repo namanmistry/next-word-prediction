{
 "cells": [
  {
   "cell_type": "code",
   "execution_count": 1,
   "id": "115dfc14-3113-432a-942e-5116e2eb29c7",
   "metadata": {},
   "outputs": [],
   "source": [
    "import numpy as np\n",
    "from tensorflow import keras\n",
    "import os\n",
    "import re\n",
    "import tensorflow as tf"
   ]
  },
  {
   "cell_type": "code",
   "execution_count": 2,
   "id": "9d3204d8-017e-464d-af7b-da3655eee1c1",
   "metadata": {},
   "outputs": [],
   "source": [
    "data = []\n",
    "for file in os.listdir('./data'):\n",
    "    with open(f\"./data/{file}\", encoding=\"utf-8\") as f:\n",
    "        for line in f:\n",
    "            data.append(line)"
   ]
  },
  {
   "cell_type": "code",
   "execution_count": 3,
   "id": "08527d8f-2feb-4a74-8e4b-062cd8b6f7ba",
   "metadata": {},
   "outputs": [
    {
     "data": {
      "text/plain": [
       "479565"
      ]
     },
     "execution_count": 3,
     "metadata": {},
     "output_type": "execute_result"
    }
   ],
   "source": [
    "len(data)"
   ]
  },
  {
   "cell_type": "code",
   "execution_count": 4,
   "id": "b7bf4e07-e008-47d2-be67-e391c4c1db14",
   "metadata": {},
   "outputs": [],
   "source": [
    "data = [i.strip() for i in data]"
   ]
  },
  {
   "cell_type": "code",
   "execution_count": 5,
   "id": "1eefd377-b233-413f-a663-7828a711d1b7",
   "metadata": {},
   "outputs": [],
   "source": [
    "\n",
    "data = list(filter(None,data))"
   ]
  },
  {
   "cell_type": "code",
   "execution_count": 6,
   "id": "5548e365-078e-4fbe-87e3-7f8190be062b",
   "metadata": {},
   "outputs": [],
   "source": [
    "def clean_data(text):\n",
    "    newString = text.lower()\n",
    "    newString = re.sub(r'[^A-Za-z\\s]','',newString)\n",
    "    \n",
    "    return newString"
   ]
  },
  {
   "cell_type": "code",
   "execution_count": 7,
   "id": "5738200c-ac6f-4cd7-8e66-01a5dbb306d7",
   "metadata": {},
   "outputs": [],
   "source": [
    "new = clean_data(data[2])"
   ]
  },
  {
   "cell_type": "code",
   "execution_count": 8,
   "id": "3220faec-d7ab-4fe5-9529-f5f562eee38c",
   "metadata": {},
   "outputs": [],
   "source": [
    "cleaned_data = [clean_data(text) for text in data]"
   ]
  },
  {
   "cell_type": "code",
   "execution_count": 9,
   "id": "2bdb8a7e-4c00-4f77-a0b7-44ab6534e0e9",
   "metadata": {},
   "outputs": [
    {
     "name": "stdout",
     "output_type": "stream",
     "text": [
      "the project gutenberg ebook three ghost stories by charles dickens\n",
      "this ebook is for the use of anyone anywhere at no cost and with\n",
      "almost no restrictions whatsoever  you may copy it give it away or\n",
      "reuse it under the terms of the project gutenberg license included\n",
      "with this ebook or online at wwwgutenbergorg\n",
      "title three ghost stories\n",
      "author charles dickens\n"
     ]
    }
   ],
   "source": [
    "count = 0\n",
    "for i in cleaned_data:\n",
    "    print(i)\n",
    "    if count > 5:\n",
    "        break\n",
    "    count += 1"
   ]
  },
  {
   "cell_type": "code",
   "execution_count": 10,
   "id": "8cc033c2-01c1-4c6d-ac82-978ee85ce972",
   "metadata": {},
   "outputs": [],
   "source": [
    "from tensorflow.keras.preprocessing.text import Tokenizer\n",
    "vocab_size = 5000\n",
    "tokenizer = Tokenizer(num_words=vocab_size)\n",
    "tokenizer.fit_on_texts(cleaned_data)\n",
    "converted = tokenizer.texts_to_sequences(cleaned_data)"
   ]
  },
  {
   "cell_type": "code",
   "execution_count": 11,
   "id": "1a346233-26dd-44d6-b39f-5fed2d66b369",
   "metadata": {},
   "outputs": [],
   "source": [
    "import pickle\n",
    "pickle_open = open(\"tokenizer.pkl\",\"wb\")\n",
    "pickle.dump(tokenizer,pickle_open)\n",
    "pickle_open.close()"
   ]
  },
  {
   "cell_type": "code",
   "execution_count": 11,
   "id": "5b3af3f1-d296-41e0-8ff5-760dbdecdea4",
   "metadata": {},
   "outputs": [
    {
     "data": {
      "text/plain": [
       "28"
      ]
     },
     "execution_count": 11,
     "metadata": {},
     "output_type": "execute_result"
    }
   ],
   "source": [
    "from tensorflow.keras.preprocessing.sequence import pad_sequences\n",
    "MAX_LEN = 0\n",
    "for i in converted:\n",
    "    if len(i) > MAX_LEN:\n",
    "        MAX_LEN = len(i)\n",
    "MAX_LEN"
   ]
  },
  {
   "cell_type": "code",
   "execution_count": 12,
   "id": "6350fb44-5ada-4472-982b-be398f711f61",
   "metadata": {},
   "outputs": [],
   "source": [
    "converted = pad_sequences(converted, maxlen=MAX_LEN, padding=\"post\")"
   ]
  },
  {
   "cell_type": "code",
   "execution_count": 13,
   "id": "dd67f114-b528-4a6e-8365-c7ace782622a",
   "metadata": {},
   "outputs": [
    {
     "data": {
      "text/plain": [
       "array([   1,  184,  438, 1183,  205, 1330, 2268,   31,  898, 2500,    0,\n",
       "          0,    0,    0,    0,    0,    0,    0,    0,    0,    0,    0,\n",
       "          0,    0,    0,    0,    0,    0])"
      ]
     },
     "execution_count": 13,
     "metadata": {},
     "output_type": "execute_result"
    }
   ],
   "source": [
    "converted[0]"
   ]
  },
  {
   "cell_type": "code",
   "execution_count": 14,
   "id": "59933e04-c997-4d36-bd12-dbceb9a298bc",
   "metadata": {},
   "outputs": [],
   "source": [
    "count = 0\n",
    "sequences = []\n",
    "for i in converted:\n",
    "    for j in range(1,len(i)-1):\n",
    "        line = [i[j-1],i[j], i[j+1]]\n",
    "        sequences.append(line)\n",
    "        if count > 10000:\n",
    "            break\n",
    "        count+=1"
   ]
  },
  {
   "cell_type": "code",
   "execution_count": 15,
   "id": "74923226-b121-44a3-a914-be69a317fd40",
   "metadata": {},
   "outputs": [],
   "source": [
    "sequences = np.array(sequences)"
   ]
  },
  {
   "cell_type": "code",
   "execution_count": 17,
   "id": "c355af0a-5b9a-45e6-bef6-2727f5919fcf",
   "metadata": {},
   "outputs": [
    {
     "data": {
      "text/plain": [
       "396991"
      ]
     },
     "execution_count": 17,
     "metadata": {},
     "output_type": "execute_result"
    }
   ],
   "source": [
    "len(sequences)"
   ]
  },
  {
   "cell_type": "code",
   "execution_count": 18,
   "id": "f6895a8c-002e-47fc-aab6-625fa1724672",
   "metadata": {},
   "outputs": [],
   "source": [
    "sequences = sequences[np.all(sequences != 0, axis=1)]"
   ]
  },
  {
   "cell_type": "code",
   "execution_count": 19,
   "id": "594566a8-68d7-4475-bb65-b56936cd9744",
   "metadata": {},
   "outputs": [
    {
     "data": {
      "text/plain": [
       "370215"
      ]
     },
     "execution_count": 19,
     "metadata": {},
     "output_type": "execute_result"
    }
   ],
   "source": [
    "len(sequences)"
   ]
  },
  {
   "cell_type": "code",
   "execution_count": 17,
   "id": "aba8940f-4579-40d5-9cf6-988fe1560e73",
   "metadata": {},
   "outputs": [],
   "source": [
    "X, Y = sequences[:,:-1], sequences[:,2]"
   ]
  },
  {
   "cell_type": "code",
   "execution_count": 25,
   "id": "60ff3ac1-6b9b-4fff-9773-e80f925150c1",
   "metadata": {},
   "outputs": [
    {
     "data": {
      "text/plain": [
       "array([[   1,  184],\n",
       "       [ 184,  438],\n",
       "       [ 438, 1183],\n",
       "       ...,\n",
       "       [1222,   96],\n",
       "       [ 957,  573],\n",
       "       [   4,  120]])"
      ]
     },
     "execution_count": 25,
     "metadata": {},
     "output_type": "execute_result"
    }
   ],
   "source": [
    "X"
   ]
  },
  {
   "cell_type": "code",
   "execution_count": 18,
   "id": "1cbdf980-34af-4293-8548-24cedee88eb9",
   "metadata": {},
   "outputs": [],
   "source": [
    "from tensorflow.keras.utils import to_categorical\n",
    "Y = to_categorical(Y, num_classes=vocab_size)"
   ]
  },
  {
   "cell_type": "code",
   "execution_count": 22,
   "id": "9b2999e6-9546-4a49-b79a-d0e307e95fe8",
   "metadata": {},
   "outputs": [
    {
     "data": {
      "text/plain": [
       "(370215, 2)"
      ]
     },
     "execution_count": 22,
     "metadata": {},
     "output_type": "execute_result"
    }
   ],
   "source": [
    "X.shape"
   ]
  },
  {
   "cell_type": "code",
   "execution_count": 19,
   "id": "347174ec-e964-4230-9157-3afc2f189af7",
   "metadata": {},
   "outputs": [],
   "source": [
    "from tensorflow.keras.models import Sequential\n",
    "from tensorflow.keras.layers import Dense\n",
    "from tensorflow.keras.layers import LSTM\n",
    "from tensorflow.keras.layers import Embedding"
   ]
  },
  {
   "cell_type": "code",
   "execution_count": 20,
   "id": "2aa7e8fa-f4cd-4373-982c-0db334300270",
   "metadata": {},
   "outputs": [
    {
     "name": "stdout",
     "output_type": "stream",
     "text": [
      "Model: \"sequential\"\n",
      "_________________________________________________________________\n",
      "Layer (type)                 Output Shape              Param #   \n",
      "=================================================================\n",
      "embedding (Embedding)        (None, 2, 100)            500000    \n",
      "_________________________________________________________________\n",
      "lstm (LSTM)                  (None, 2, 100)            80400     \n",
      "_________________________________________________________________\n",
      "lstm_1 (LSTM)                (None, 100)               80400     \n",
      "_________________________________________________________________\n",
      "dense (Dense)                (None, 100)               10100     \n",
      "_________________________________________________________________\n",
      "dense_1 (Dense)              (None, 5000)              505000    \n",
      "=================================================================\n",
      "Total params: 1,175,900\n",
      "Trainable params: 1,175,900\n",
      "Non-trainable params: 0\n",
      "_________________________________________________________________\n",
      "None\n"
     ]
    }
   ],
   "source": [
    "dimensions_to_represent_word = 100\n",
    " \n",
    "model = Sequential()\n",
    "model.add(Embedding(vocab_size, dimensions_to_represent_word, input_length=X.shape[1]))\n",
    "# We will use a two LSTM hidden layers with 100 memory cells each. \n",
    "# More memory cells and a deeper network may achieve better results.\n",
    "model.add(LSTM(100, return_sequences=True))\n",
    "model.add(LSTM(100))\n",
    "model.add(Dense(100, activation='relu'))\n",
    "model.add(Dense(vocab_size, activation='softmax'))\n",
    "print(model.summary())\n",
    "\n",
    "model.compile(loss='categorical_crossentropy', optimizer='adam', metrics=['accuracy'])"
   ]
  },
  {
   "cell_type": "code",
   "execution_count": null,
   "id": "f6da9e32-1e0c-427d-a15a-5847b9368fc5",
   "metadata": {},
   "outputs": [],
   "source": []
  },
  {
   "cell_type": "code",
   "execution_count": null,
   "id": "cdbca69c-4628-4b29-9cab-22e1b76233c4",
   "metadata": {},
   "outputs": [
    {
     "name": "stdout",
     "output_type": "stream",
     "text": [
      "Epoch 1/100\n",
      "3102/3102 [==============================] - 71s 23ms/step - loss: 4.8872 - accuracy: 0.1852\n",
      "Epoch 2/100\n",
      "3102/3102 [==============================] - 71s 23ms/step - loss: 4.7384 - accuracy: 0.1962\n",
      "Epoch 3/100\n",
      "3102/3102 [==============================] - 70s 23ms/step - loss: 4.6265 - accuracy: 0.2039\n",
      "Epoch 4/100\n",
      "3102/3102 [==============================] - 70s 23ms/step - loss: 4.5345 - accuracy: 0.2096\n",
      "Epoch 5/100\n",
      "3102/3102 [==============================] - 68s 22ms/step - loss: 4.4548 - accuracy: 0.2136\n",
      "Epoch 6/100\n",
      "3102/3102 [==============================] - 68s 22ms/step - loss: 4.3832 - accuracy: 0.2181\n",
      "Epoch 7/100\n",
      "3102/3102 [==============================] - 68s 22ms/step - loss: 4.3166 - accuracy: 0.2220\n",
      "Epoch 8/100\n",
      "3102/3102 [==============================] - 64s 21ms/step - loss: 4.2550 - accuracy: 0.2250\n",
      "Epoch 9/100\n",
      "3102/3102 [==============================] - 52s 17ms/step - loss: 4.1963 - accuracy: 0.2290\n",
      "Epoch 10/100\n",
      "3102/3102 [==============================] - 52s 17ms/step - loss: 4.1417 - accuracy: 0.2318\n",
      "Epoch 11/100\n",
      "3102/3102 [==============================] - 52s 17ms/step - loss: 4.0899 - accuracy: 0.2358\n",
      "Epoch 12/100\n",
      "3102/3102 [==============================] - 53s 17ms/step - loss: 4.0396 - accuracy: 0.2389\n",
      "Epoch 13/100\n",
      "3102/3102 [==============================] - 55s 18ms/step - loss: 3.9925 - accuracy: 0.2415\n",
      "Epoch 14/100\n",
      "2957/3102 [===========================>..] - ETA: 3s - loss: 3.9463 - accuracy: 0.2449Collecting tensorflow\n",
      "  Downloading tensorflow-2.5.0-cp38-cp38-win_amd64.whl (422.6 MB)\n",
      "Requirement already satisfied: grpcio~=1.34.0 in c:\\users\\naman mistry\\appdata\\local\\programs\\python\\python38\\lib\\site-packages (from tensorflow) (1.34.1)\n",
      "Requirement already satisfied: wheel~=0.35 in c:\\users\\naman mistry\\appdata\\local\\programs\\python\\python38\\lib\\site-packages (from tensorflow) (0.36.2)\n",
      "Requirement already satisfied: opt-einsum~=3.3.0 in c:\\users\\naman mistry\\appdata\\local\\programs\\python\\python38\\lib\\site-packages (from tensorflow) (3.3.0)\n",
      "Requirement already satisfied: typing-extensions~=3.7.4 in c:\\users\\naman mistry\\appdata\\local\\programs\\python\\python38\\lib\\site-packages (from tensorflow) (3.7.4.3)\n",
      "Requirement already satisfied: gast==0.4.0 in c:\\users\\naman mistry\\appdata\\local\\programs\\python\\python38\\lib\\site-packages (from tensorflow) (0.4.0)\n",
      "Requirement already satisfied: google-pasta~=0.2 in c:\\users\\naman mistry\\appdata\\local\\programs\\python\\python38\\lib\\site-packages (from tensorflow) (0.2.0)\n",
      "Requirement already satisfied: flatbuffers~=1.12.0 in c:\\users\\naman mistry\\appdata\\local\\programs\\python\\python38\\lib\\site-packages (from tensorflow) (1.12)\n",
      "Requirement already satisfied: wrapt~=1.12.1 in c:\\users\\naman mistry\\appdata\\local\\programs\\python\\python38\\lib\\site-packages (from tensorflow) (1.12.1)\n",
      "Requirement already satisfied: six~=1.15.0 in c:\\users\\naman mistry\\appdata\\local\\programs\\python\\python38\\lib\\site-packages (from tensorflow) (1.15.0)\n",
      "Requirement already satisfied: termcolor~=1.1.0 in c:\\users\\naman mistry\\appdata\\local\\programs\\python\\python38\\lib\\site-packages (from tensorflow) (1.1.0)\n",
      "Requirement already satisfied: keras-preprocessing~=1.1.2 in c:\\users\\naman mistry\\appdata\\local\\programs\\python\\python38\\lib\\site-packages (from tensorflow) (1.1.2)\n",
      "Requirement already satisfied: keras-nightly~=2.5.0.dev in c:\\users\\naman mistry\\appdata\\local\\programs\\python\\python38\\lib\\site-packages (from tensorflow) (2.5.0.dev2021032900)\n",
      "Requirement already satisfied: tensorboard~=2.5 in c:\\users\\naman mistry\\appdata\\local\\programs\\python\\python38\\lib\\site-packages (from tensorflow) (2.5.0)\n",
      "Requirement already satisfied: tensorflow-estimator<2.6.0,>=2.5.0rc0 in c:\\users\\naman mistry\\appdata\\local\\programs\\python\\python38\\lib\\site-packages (from tensorflow) (2.5.0)\n",
      "Requirement already satisfied: h5py~=3.1.0 in c:\\users\\naman mistry\\appdata\\local\\programs\\python\\python38\\lib\\site-packages (from tensorflow) (3.1.0)\n",
      "Requirement already satisfied: absl-py~=0.10 in c:\\users\\naman mistry\\appdata\\local\\programs\\python\\python38\\lib\\site-packages (from tensorflow) (0.12.0)\n",
      "Requirement already satisfied: numpy~=1.19.2 in c:\\users\\naman mistry\\appdata\\local\\programs\\python\\python38\\lib\\site-packages (from tensorflow) (1.19.5)\n",
      "Requirement already satisfied: protobuf>=3.9.2 in c:\\users\\naman mistry\\appdata\\local\\programs\\python\\python38\\lib\\site-packages (from tensorflow) (3.17.2)\n",
      "Requirement already satisfied: astunparse~=1.6.3 in c:\\users\\naman mistry\\appdata\\local\\programs\\python\\python38\\lib\\site-packages (from tensorflow) (1.6.3)\n",
      "Requirement already satisfied: tensorboard-data-server<0.7.0,>=0.6.0 in c:\\users\\naman mistry\\appdata\\local\\programs\\python\\python38\\lib\\site-packages (from tensorboard~=2.5->tensorflow) (0.6.1)\n",
      "Requirement already satisfied: markdown>=2.6.8 in c:\\users\\naman mistry\\appdata\\local\\programs\\python\\python38\\lib\\site-packages (from tensorboard~=2.5->tensorflow) (3.3.4)\n",
      "Requirement already satisfied: tensorboard-plugin-wit>=1.6.0 in c:\\users\\naman mistry\\appdata\\local\\programs\\python\\python38\\lib\\site-packages (from tensorboard~=2.5->tensorflow) (1.8.0)\n",
      "Requirement already satisfied: werkzeug>=0.11.15 in c:\\users\\naman mistry\\appdata\\local\\programs\\python\\python38\\lib\\site-packages (from tensorboard~=2.5->tensorflow) (2.0.1)\n",
      "Requirement already satisfied: requests<3,>=2.21.0 in c:\\users\\naman mistry\\appdata\\local\\programs\\python\\python38\\lib\\site-packages (from tensorboard~=2.5->tensorflow) (2.25.1)\n",
      "Requirement already satisfied: google-auth<2,>=1.6.3 in c:\\users\\naman mistry\\appdata\\local\\programs\\python\\python38\\lib\\site-packages (from tensorboard~=2.5->tensorflow) (1.30.1)\n",
      "Requirement already satisfied: google-auth-oauthlib<0.5,>=0.4.1 in c:\\users\\naman mistry\\appdata\\local\\programs\\python\\python38\\lib\\site-packages (from tensorboard~=2.5->tensorflow) (0.4.4)\n",
      "Requirement already satisfied: setuptools>=41.0.0 in c:\\users\\naman mistry\\appdata\\local\\programs\\python\\python38\\lib\\site-packages (from tensorboard~=2.5->tensorflow) (47.1.0)\n",
      "Requirement already satisfied: cachetools<5.0,>=2.0.0 in c:\\users\\naman mistry\\appdata\\local\\programs\\python\\python38\\lib\\site-packages (from google-auth<2,>=1.6.3->tensorboard~=2.5->tensorflow) (4.2.2)\n",
      "Requirement already satisfied: rsa<5,>=3.1.4 in c:\\users\\naman mistry\\appdata\\local\\programs\\python\\python38\\lib\\site-packages (from google-auth<2,>=1.6.3->tensorboard~=2.5->tensorflow) (4.7.2)\n",
      "Requirement already satisfied: pyasn1-modules>=0.2.1 in c:\\users\\naman mistry\\appdata\\local\\programs\\python\\python38\\lib\\site-packages (from google-auth<2,>=1.6.3->tensorboard~=2.5->tensorflow) (0.2.8)\n",
      "Requirement already satisfied: requests-oauthlib>=0.7.0 in c:\\users\\naman mistry\\appdata\\local\\programs\\python\\python38\\lib\\site-packages (from google-auth-oauthlib<0.5,>=0.4.1->tensorboard~=2.5->tensorflow) (1.3.0)\n",
      "Requirement already satisfied: pyasn1<0.5.0,>=0.4.6 in c:\\users\\naman mistry\\appdata\\local\\programs\\python\\python38\\lib\\site-packages (from pyasn1-modules>=0.2.1->google-auth<2,>=1.6.3->tensorboard~=2.5->tensorflow) (0.4.8)\n",
      "Requirement already satisfied: chardet<5,>=3.0.2 in c:\\users\\naman mistry\\appdata\\local\\programs\\python\\python38\\lib\\site-packages (from requests<3,>=2.21.0->tensorboard~=2.5->tensorflow) (4.0.0)\n",
      "Requirement already satisfied: certifi>=2017.4.17 in c:\\users\\naman mistry\\appdata\\local\\programs\\python\\python38\\lib\\site-packages (from requests<3,>=2.21.0->tensorboard~=2.5->tensorflow) (2021.5.30)\n",
      "Requirement already satisfied: idna<3,>=2.5 in c:\\users\\naman mistry\\appdata\\local\\programs\\python\\python38\\lib\\site-packages (from requests<3,>=2.21.0->tensorboard~=2.5->tensorflow) (2.10)\n",
      "Requirement already satisfied: urllib3<1.27,>=1.21.1 in c:\\users\\naman mistry\\appdata\\local\\programs\\python\\python38\\lib\\site-packages (from requests<3,>=2.21.0->tensorboard~=2.5->tensorflow) (1.26.5)\n",
      "Requirement already satisfied: oauthlib>=3.0.0 in c:\\users\\naman mistry\\appdata\\local\\programs\\python\\python38\\lib\\site-packages (from requests-oauthlib>=0.7.0->google-auth-oauthlib<0.5,>=0.4.1->tensorboard~=2.5->tensorflow) (3.1.1)\n",
      "Installing collected packages: tensorflow\n"
     ]
    },
    {
     "name": "stderr",
     "output_type": "stream",
     "text": [
      "ERROR: Could not install packages due to an OSError: [WinError 5] Access is denied: 'c:\\\\users\\\\naman mistry\\\\appdata\\\\local\\\\programs\\\\python\\\\python38\\\\Lib\\\\site-packages\\\\tensorflow\\\\lite\\\\experimental\\\\microfrontend\\\\python\\\\ops\\\\_audio_microfrontend_op.so'\n",
      "Consider using the `--user` option or check the permissions.\n",
      "\n"
     ]
    },
    {
     "name": "stdout",
     "output_type": "stream",
     "text": [
      "3102/3102 [==============================] - 72s 23ms/step - loss: 3.9482 - accuracy: 0.2449\n",
      "Epoch 15/100\n",
      "3102/3102 [==============================] - 59s 19ms/step - loss: 3.9055 - accuracy: 0.2482\n",
      "Epoch 16/100\n",
      "3102/3102 [==============================] - 61s 20ms/step - loss: 3.8644 - accuracy: 0.2518\n",
      "Epoch 17/100\n",
      "3102/3102 [==============================] - 57s 18ms/step - loss: 3.8254 - accuracy: 0.2550\n",
      "Epoch 18/100\n",
      "3102/3102 [==============================] - 54s 17ms/step - loss: 3.7890 - accuracy: 0.2589\n",
      "Epoch 19/100\n",
      "3102/3102 [==============================] - 53s 17ms/step - loss: 3.7545 - accuracy: 0.2619\n",
      "Epoch 20/100\n",
      "3102/3102 [==============================] - 53s 17ms/step - loss: 3.7201 - accuracy: 0.2657\n",
      "Epoch 21/100\n",
      "3102/3102 [==============================] - 53s 17ms/step - loss: 3.6889 - accuracy: 0.2685\n",
      "Epoch 22/100\n",
      "3102/3102 [==============================] - 53s 17ms/step - loss: 3.6585 - accuracy: 0.2719\n",
      "Epoch 23/100\n",
      "3102/3102 [==============================] - 54s 17ms/step - loss: 3.6294 - accuracy: 0.2752\n",
      "Epoch 24/100\n",
      "2157/3102 [===================>..........] - ETA: 16s - loss: 3.5760 - accuracy: 0.2807- ETA: 18s "
     ]
    }
   ],
   "source": [
    "model.fit(X, Y, batch_size=128, epochs=100)"
   ]
  },
  {
   "cell_type": "code",
   "execution_count": 32,
   "id": "7185a8f3-562d-4921-b172-ac31f77691f5",
   "metadata": {},
   "outputs": [
    {
     "name": "stdout",
     "output_type": "stream",
     "text": [
      "1\n",
      "[[542]]\n",
      "thank -> you\n",
      "1\n",
      "[[1336, 4, 1]]\n",
      "welcome to the -> of\n",
      "1\n",
      "[[43, 44]]\n",
      "when there -> was\n",
      "1\n",
      "[[64, 79]]\n",
      "more than -> the\n",
      "1\n",
      "[[9, 398]]\n",
      "it cannot -> be\n",
      "1\n",
      "[[24, 8]]\n",
      "is that -> i\n",
      "1\n",
      "[[665, 30]]\n",
      "although this -> was\n",
      "1\n",
      "[[58, 13]]\n",
      "do you -> know\n",
      "1\n",
      "[[7, 12]]\n",
      "I was -> a\n",
      "1\n",
      "[[1, 123]]\n",
      "the only -> of\n",
      "1\n",
      "[[5, 90]]\n",
      "a great -> and\n"
     ]
    }
   ],
   "source": [
    "test = ['thank',\n",
    "'welcome to the',\n",
    "'when there',\n",
    "'more than',\n",
    "'it cannot',\n",
    "'is that',\n",
    "'although this',\n",
    "'do you',\n",
    "'I was',\n",
    "'the only',\n",
    "'a great']\n",
    "\n",
    "for t in test:\n",
    "    example = tokenizer.texts_to_sequences([t])\n",
    "    print(len(example))\n",
    "    print(example)\n",
    "    prediction = model.predict(np.array(example))\n",
    "    predicted_word = np.argmax(prediction)\n",
    "    reverse_word_map = dict(map(reversed, tokenizer.word_index.items()))  # https://stackoverflow.com/a/43927939/246508\n",
    "    print (\"{0} -> {1}\".format(t, reverse_word_map[predicted_word]))"
   ]
  },
  {
   "cell_type": "code",
   "execution_count": 29,
   "id": "5c36d9a3-f5a9-4685-8e3b-1bb41f34147c",
   "metadata": {},
   "outputs": [],
   "source": [
    "model.save(\"model.h5\")"
   ]
  },
  {
   "cell_type": "code",
   "execution_count": 29,
   "id": "d83df6bb-5b70-448a-a538-f56087392fb9",
   "metadata": {},
   "outputs": [
    {
     "name": "stdout",
     "output_type": "stream",
     "text": [
      "^C\n"
     ]
    }
   ],
   "source": [
    "!pip install tensorflow"
   ]
  },
  {
   "cell_type": "code",
   "execution_count": 30,
   "id": "ed99456f-592e-4db4-913e-19ce7a8469d2",
   "metadata": {},
   "outputs": [
    {
     "name": "stdout",
     "output_type": "stream",
     "text": [
      "Requirement already satisfied: tensorflow-gpu in c:\\users\\naman mistry\\appdata\\local\\programs\\python\\python38\\lib\\site-packages (2.5.0)\n",
      "Requirement already satisfied: tensorboard~=2.5 in c:\\users\\naman mistry\\appdata\\local\\programs\\python\\python38\\lib\\site-packages (from tensorflow-gpu) (2.5.0)\n",
      "Requirement already satisfied: protobuf>=3.9.2 in c:\\users\\naman mistry\\appdata\\local\\programs\\python\\python38\\lib\\site-packages (from tensorflow-gpu) (3.17.2)\n",
      "Requirement already satisfied: keras-preprocessing~=1.1.2 in c:\\users\\naman mistry\\appdata\\local\\programs\\python\\python38\\lib\\site-packages (from tensorflow-gpu) (1.1.2)\n",
      "Requirement already satisfied: wheel~=0.35 in c:\\users\\naman mistry\\appdata\\local\\programs\\python\\python38\\lib\\site-packages (from tensorflow-gpu) (0.36.2)\n",
      "Requirement already satisfied: termcolor~=1.1.0 in c:\\users\\naman mistry\\appdata\\local\\programs\\python\\python38\\lib\\site-packages (from tensorflow-gpu) (1.1.0)\n",
      "Requirement already satisfied: google-pasta~=0.2 in c:\\users\\naman mistry\\appdata\\local\\programs\\python\\python38\\lib\\site-packages (from tensorflow-gpu) (0.2.0)\n",
      "Requirement already satisfied: grpcio~=1.34.0 in c:\\users\\naman mistry\\appdata\\local\\programs\\python\\python38\\lib\\site-packages (from tensorflow-gpu) (1.34.1)\n",
      "Requirement already satisfied: opt-einsum~=3.3.0 in c:\\users\\naman mistry\\appdata\\local\\programs\\python\\python38\\lib\\site-packages (from tensorflow-gpu) (3.3.0)\n",
      "Requirement already satisfied: six~=1.15.0 in c:\\users\\naman mistry\\appdata\\local\\programs\\python\\python38\\lib\\site-packages (from tensorflow-gpu) (1.15.0)\n",
      "Requirement already satisfied: tensorflow-estimator<2.6.0,>=2.5.0rc0 in c:\\users\\naman mistry\\appdata\\local\\programs\\python\\python38\\lib\\site-packages (from tensorflow-gpu) (2.5.0)\n",
      "Requirement already satisfied: keras-nightly~=2.5.0.dev in c:\\users\\naman mistry\\appdata\\local\\programs\\python\\python38\\lib\\site-packages (from tensorflow-gpu) (2.5.0.dev2021032900)\n",
      "Requirement already satisfied: wrapt~=1.12.1 in c:\\users\\naman mistry\\appdata\\local\\programs\\python\\python38\\lib\\site-packages (from tensorflow-gpu) (1.12.1)\n",
      "Requirement already satisfied: flatbuffers~=1.12.0 in c:\\users\\naman mistry\\appdata\\local\\programs\\python\\python38\\lib\\site-packages (from tensorflow-gpu) (1.12)\n",
      "Requirement already satisfied: astunparse~=1.6.3 in c:\\users\\naman mistry\\appdata\\local\\programs\\python\\python38\\lib\\site-packages (from tensorflow-gpu) (1.6.3)\n",
      "Requirement already satisfied: h5py~=3.1.0 in c:\\users\\naman mistry\\appdata\\local\\programs\\python\\python38\\lib\\site-packages (from tensorflow-gpu) (3.1.0)\n",
      "Requirement already satisfied: typing-extensions~=3.7.4 in c:\\users\\naman mistry\\appdata\\local\\programs\\python\\python38\\lib\\site-packages (from tensorflow-gpu) (3.7.4.3)\n",
      "Requirement already satisfied: gast==0.4.0 in c:\\users\\naman mistry\\appdata\\local\\programs\\python\\python38\\lib\\site-packages (from tensorflow-gpu) (0.4.0)\n",
      "Requirement already satisfied: absl-py~=0.10 in c:\\users\\naman mistry\\appdata\\local\\programs\\python\\python38\\lib\\site-packages (from tensorflow-gpu) (0.12.0)\n",
      "Requirement already satisfied: numpy~=1.19.2 in c:\\users\\naman mistry\\appdata\\local\\programs\\python\\python38\\lib\\site-packages (from tensorflow-gpu) (1.19.5)\n",
      "Requirement already satisfied: requests<3,>=2.21.0 in c:\\users\\naman mistry\\appdata\\local\\programs\\python\\python38\\lib\\site-packages (from tensorboard~=2.5->tensorflow-gpu) (2.25.1)\n",
      "Requirement already satisfied: google-auth-oauthlib<0.5,>=0.4.1 in c:\\users\\naman mistry\\appdata\\local\\programs\\python\\python38\\lib\\site-packages (from tensorboard~=2.5->tensorflow-gpu) (0.4.4)\n",
      "Requirement already satisfied: tensorboard-data-server<0.7.0,>=0.6.0 in c:\\users\\naman mistry\\appdata\\local\\programs\\python\\python38\\lib\\site-packages (from tensorboard~=2.5->tensorflow-gpu) (0.6.1)\n",
      "Requirement already satisfied: werkzeug>=0.11.15 in c:\\users\\naman mistry\\appdata\\local\\programs\\python\\python38\\lib\\site-packages (from tensorboard~=2.5->tensorflow-gpu) (2.0.1)\n",
      "Requirement already satisfied: markdown>=2.6.8 in c:\\users\\naman mistry\\appdata\\local\\programs\\python\\python38\\lib\\site-packages (from tensorboard~=2.5->tensorflow-gpu) (3.3.4)\n",
      "Requirement already satisfied: tensorboard-plugin-wit>=1.6.0 in c:\\users\\naman mistry\\appdata\\local\\programs\\python\\python38\\lib\\site-packages (from tensorboard~=2.5->tensorflow-gpu) (1.8.0)\n",
      "Requirement already satisfied: setuptools>=41.0.0 in c:\\users\\naman mistry\\appdata\\local\\programs\\python\\python38\\lib\\site-packages (from tensorboard~=2.5->tensorflow-gpu) (47.1.0)\n",
      "Requirement already satisfied: google-auth<2,>=1.6.3 in c:\\users\\naman mistry\\appdata\\local\\programs\\python\\python38\\lib\\site-packages (from tensorboard~=2.5->tensorflow-gpu) (1.30.1)\n",
      "Requirement already satisfied: cachetools<5.0,>=2.0.0 in c:\\users\\naman mistry\\appdata\\local\\programs\\python\\python38\\lib\\site-packages (from google-auth<2,>=1.6.3->tensorboard~=2.5->tensorflow-gpu) (4.2.2)\n",
      "Requirement already satisfied: pyasn1-modules>=0.2.1 in c:\\users\\naman mistry\\appdata\\local\\programs\\python\\python38\\lib\\site-packages (from google-auth<2,>=1.6.3->tensorboard~=2.5->tensorflow-gpu) (0.2.8)\n",
      "Requirement already satisfied: rsa<5,>=3.1.4 in c:\\users\\naman mistry\\appdata\\local\\programs\\python\\python38\\lib\\site-packages (from google-auth<2,>=1.6.3->tensorboard~=2.5->tensorflow-gpu) (4.7.2)\n",
      "Requirement already satisfied: requests-oauthlib>=0.7.0 in c:\\users\\naman mistry\\appdata\\local\\programs\\python\\python38\\lib\\site-packages (from google-auth-oauthlib<0.5,>=0.4.1->tensorboard~=2.5->tensorflow-gpu) (1.3.0)\n",
      "Requirement already satisfied: pyasn1<0.5.0,>=0.4.6 in c:\\users\\naman mistry\\appdata\\local\\programs\\python\\python38\\lib\\site-packages (from pyasn1-modules>=0.2.1->google-auth<2,>=1.6.3->tensorboard~=2.5->tensorflow-gpu) (0.4.8)\n",
      "Requirement already satisfied: idna<3,>=2.5 in c:\\users\\naman mistry\\appdata\\local\\programs\\python\\python38\\lib\\site-packages (from requests<3,>=2.21.0->tensorboard~=2.5->tensorflow-gpu) (2.10)\n",
      "Requirement already satisfied: certifi>=2017.4.17 in c:\\users\\naman mistry\\appdata\\local\\programs\\python\\python38\\lib\\site-packages (from requests<3,>=2.21.0->tensorboard~=2.5->tensorflow-gpu) (2021.5.30)\n",
      "Requirement already satisfied: urllib3<1.27,>=1.21.1 in c:\\users\\naman mistry\\appdata\\local\\programs\\python\\python38\\lib\\site-packages (from requests<3,>=2.21.0->tensorboard~=2.5->tensorflow-gpu) (1.26.5)\n",
      "Requirement already satisfied: chardet<5,>=3.0.2 in c:\\users\\naman mistry\\appdata\\local\\programs\\python\\python38\\lib\\site-packages (from requests<3,>=2.21.0->tensorboard~=2.5->tensorflow-gpu) (4.0.0)\n",
      "Requirement already satisfied: oauthlib>=3.0.0 in c:\\users\\naman mistry\\appdata\\local\\programs\\python\\python38\\lib\\site-packages (from requests-oauthlib>=0.7.0->google-auth-oauthlib<0.5,>=0.4.1->tensorboard~=2.5->tensorflow-gpu) (3.1.1)\n"
     ]
    }
   ],
   "source": [
    "!pip install tensorflow-gpu"
   ]
  },
  {
   "cell_type": "code",
   "execution_count": 31,
   "id": "d369e8f8-8ab5-43bd-bee0-9ac633d09f9c",
   "metadata": {},
   "outputs": [
    {
     "data": {
      "text/plain": [
       "'2.5.0'"
      ]
     },
     "execution_count": 31,
     "metadata": {},
     "output_type": "execute_result"
    }
   ],
   "source": [
    "import tensorflow\n",
    "tensorflow.__version__"
   ]
  },
  {
   "cell_type": "code",
   "execution_count": null,
   "id": "3ae837e8-8a28-4e28-a25f-0f668b494203",
   "metadata": {},
   "outputs": [],
   "source": []
  }
 ],
 "metadata": {
  "kernelspec": {
   "display_name": "Python 3",
   "language": "python",
   "name": "python3"
  },
  "language_info": {
   "codemirror_mode": {
    "name": "ipython",
    "version": 3
   },
   "file_extension": ".py",
   "mimetype": "text/x-python",
   "name": "python",
   "nbconvert_exporter": "python",
   "pygments_lexer": "ipython3",
   "version": "3.8.5"
  }
 },
 "nbformat": 4,
 "nbformat_minor": 5
}
